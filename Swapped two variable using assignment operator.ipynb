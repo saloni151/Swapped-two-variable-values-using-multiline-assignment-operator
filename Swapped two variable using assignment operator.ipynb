{
 "cells": [
  {
   "cell_type": "markdown",
   "id": "daf76e51-6ca3-458c-975e-b8bf5e7e921e",
   "metadata": {},
   "source": [
    "**Write a program to swap two variable using assignment operator**"
   ]
  },
  {
   "cell_type": "code",
   "execution_count": 1,
   "id": "72bd69d3-fb03-4203-8b89-629358103f6f",
   "metadata": {},
   "outputs": [
    {
     "name": "stdin",
     "output_type": "stream",
     "text": [
      "Enter the first value: 5\n"
     ]
    }
   ],
   "source": [
    "#Taking the value for input a\n",
    "a=float(input(\"Enter the first value:\"))"
   ]
  },
  {
   "cell_type": "code",
   "execution_count": 2,
   "id": "2d159011-6afc-4c80-878d-33379a4a461d",
   "metadata": {},
   "outputs": [
    {
     "name": "stdin",
     "output_type": "stream",
     "text": [
      "Enter the second value: 6\n"
     ]
    }
   ],
   "source": [
    "#Taking the value for input b\n",
    "b=float(input(\"Enter the second value:\"))"
   ]
  },
  {
   "cell_type": "code",
   "execution_count": 3,
   "id": "5304625e-0623-4ccd-bb11-169dc8514313",
   "metadata": {},
   "outputs": [
    {
     "name": "stdout",
     "output_type": "stream",
     "text": [
      "The original value of a is: 5.0\n"
     ]
    }
   ],
   "source": [
    "#displaying the original value of variable a\n",
    "print(\"The original value of a is: {}\".format(a))"
   ]
  },
  {
   "cell_type": "code",
   "execution_count": 4,
   "id": "3c449f53-7c42-4416-98af-f3affcd9e643",
   "metadata": {},
   "outputs": [
    {
     "name": "stdout",
     "output_type": "stream",
     "text": [
      "The original value of b is: 6.0\n"
     ]
    }
   ],
   "source": [
    "#displaying the original value of variable b\n",
    "print(\"The original value of b is: {}\".format(b))"
   ]
  },
  {
   "cell_type": "code",
   "execution_count": 5,
   "id": "12c92ee3-47b6-4eac-aeb7-85ef422cd880",
   "metadata": {},
   "outputs": [],
   "source": [
    "#logic for swaping the values of two variable using multiline assignment operator\n",
    "a,b=b,a"
   ]
  },
  {
   "cell_type": "code",
   "execution_count": 6,
   "id": "ee651285-6734-412c-a8c6-0a4855116949",
   "metadata": {},
   "outputs": [
    {
     "name": "stdout",
     "output_type": "stream",
     "text": [
      "The value of a after swapping is: 6.0\n"
     ]
    }
   ],
   "source": [
    "# Displaying the swapped value in variable a\n",
    "print(\"The value of a after swapping is: {}\".format(a))"
   ]
  },
  {
   "cell_type": "code",
   "execution_count": 7,
   "id": "ed40013c-cad9-4122-ad08-2d009fc99482",
   "metadata": {},
   "outputs": [
    {
     "name": "stdout",
     "output_type": "stream",
     "text": [
      "The value of b after swapping is: 5.0\n"
     ]
    }
   ],
   "source": [
    "# Displaying the swapped value in variable b\n",
    "print(\"The value of b after swapping is: {}\".format(b))"
   ]
  },
  {
   "cell_type": "code",
   "execution_count": null,
   "id": "2ca61dbc-fda4-46f5-8aeb-fbab333bf32b",
   "metadata": {},
   "outputs": [],
   "source": []
  },
  {
   "cell_type": "code",
   "execution_count": null,
   "id": "38e7f42f-d6d1-4de5-b36f-170b173d9ce1",
   "metadata": {},
   "outputs": [],
   "source": []
  },
  {
   "cell_type": "code",
   "execution_count": null,
   "id": "60323918-a220-41c9-a982-91579349e659",
   "metadata": {},
   "outputs": [],
   "source": []
  },
  {
   "cell_type": "code",
   "execution_count": null,
   "id": "ce61ea50-c91d-4a39-ace8-038d9b92555e",
   "metadata": {},
   "outputs": [],
   "source": []
  },
  {
   "cell_type": "code",
   "execution_count": null,
   "id": "0fbc4fdf-05b8-4d36-a724-3984437dd709",
   "metadata": {},
   "outputs": [],
   "source": []
  },
  {
   "cell_type": "code",
   "execution_count": null,
   "id": "0558fab5-799c-473d-8953-d0f150c872b0",
   "metadata": {},
   "outputs": [],
   "source": []
  },
  {
   "cell_type": "code",
   "execution_count": null,
   "id": "e46266f0-1f08-4a24-af65-ccddaa740f22",
   "metadata": {},
   "outputs": [],
   "source": []
  },
  {
   "cell_type": "code",
   "execution_count": null,
   "id": "2ba7c0c6-d51d-4762-99c7-9cc9caf7a7c6",
   "metadata": {},
   "outputs": [],
   "source": []
  },
  {
   "cell_type": "code",
   "execution_count": null,
   "id": "356e68b5-666d-4168-a1bc-27bebdcb119e",
   "metadata": {},
   "outputs": [],
   "source": []
  },
  {
   "cell_type": "code",
   "execution_count": null,
   "id": "734a3b81-8c95-42c7-bff8-16cb1c445c7a",
   "metadata": {},
   "outputs": [],
   "source": []
  }
 ],
 "metadata": {
  "kernelspec": {
   "display_name": "Python 3 (ipykernel)",
   "language": "python",
   "name": "python3"
  },
  "language_info": {
   "codemirror_mode": {
    "name": "ipython",
    "version": 3
   },
   "file_extension": ".py",
   "mimetype": "text/x-python",
   "name": "python",
   "nbconvert_exporter": "python",
   "pygments_lexer": "ipython3",
   "version": "3.12.7"
  }
 },
 "nbformat": 4,
 "nbformat_minor": 5
}
